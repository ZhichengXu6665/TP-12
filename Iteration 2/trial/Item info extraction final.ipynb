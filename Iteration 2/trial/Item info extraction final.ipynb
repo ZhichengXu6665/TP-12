{
 "cells": [
  {
   "cell_type": "markdown",
   "id": "046e1332",
   "metadata": {
    "toc": true
   },
   "source": [
    "<h1>Table of Contents<span class=\"tocSkip\"></span></h1>\n",
    "<div class=\"toc\"><ul class=\"toc-item\"><li><span><a href=\"#Import\" data-toc-modified-id=\"Import-1\"><span class=\"toc-item-num\">1&nbsp;&nbsp;</span>Import</a></span></li><li><span><a href=\"#Brands\" data-toc-modified-id=\"Brands-2\"><span class=\"toc-item-num\">2&nbsp;&nbsp;</span>Brands</a></span></li><li><span><a href=\"#Product-groups-and-categories\" data-toc-modified-id=\"Product-groups-and-categories-3\"><span class=\"toc-item-num\">3&nbsp;&nbsp;</span>Product groups and categories</a></span></li><li><span><a href=\"#Functions-to-categorise,-quantity\" data-toc-modified-id=\"Functions-to-categorise,-quantity-4\"><span class=\"toc-item-num\">4&nbsp;&nbsp;</span>Functions to categorise, quantity</a></span></li><li><span><a href=\"#Example\" data-toc-modified-id=\"Example-5\"><span class=\"toc-item-num\">5&nbsp;&nbsp;</span>Example</a></span></li></ul></div>"
   ]
  },
  {
   "cell_type": "markdown",
   "id": "b0835b89",
   "metadata": {},
   "source": [
    "# Import"
   ]
  },
  {
   "cell_type": "code",
   "execution_count": 2,
   "id": "e5792472",
   "metadata": {},
   "outputs": [],
   "source": [
    "from rapidfuzz import process\n",
    "import pandas as pd\n",
    "import numpy as np\n",
    "import re"
   ]
  },
  {
   "cell_type": "markdown",
   "id": "b8e73389",
   "metadata": {},
   "source": [
    "# Brands"
   ]
  },
  {
   "cell_type": "code",
   "execution_count": 3,
   "id": "1b65f206",
   "metadata": {},
   "outputs": [],
   "source": [
    "woolies = pd.read_csv(\"Category\\Woolworths.csv\")\n",
    "coles = pd.read_csv(\"Category\\Coles.csv\")"
   ]
  },
  {
   "cell_type": "code",
   "execution_count": 4,
   "id": "1a88f6d9",
   "metadata": {},
   "outputs": [],
   "source": [
    "#get woolies brands\n",
    "brands = woolies[woolies[\"WOW Category\"] == \"Pantry\"][\"Brand\"].unique()\n",
    "brands = list(brands[~pd.isna(brands)])\n",
    "\n",
    "#get coles brands\n",
    "coles_brands = coles[coles[\"COL Category\"].isin(['Fruit Vegetables', 'International Foods',\n",
    "       'Pantry', 'Frozen', 'Dairy Eggs Meals', 'Household', 'Drinks', 'From Deli',\n",
    "       'Bakery', 'Kids Lunch Box', 'Convenience Meals',\n",
    "       'Meat Seafood Deli'])][\"Brand\"].unique()\n",
    "coles_brands = list(coles_brands[~pd.isna(coles_brands)])\n",
    "#change words to lowercase\n",
    "for words in coles_brands:\n",
    "    brands.append(words.lower())\n",
    "\n",
    "#remove duplicates\n",
    "brands = list(set(brands)) "
   ]
  },
  {
   "cell_type": "code",
   "execution_count": 5,
   "id": "71699d6d",
   "metadata": {},
   "outputs": [],
   "source": [
    "brands = sorted(brands, key=len, reverse = True) #so that regex removes arnotts instead of a+"
   ]
  },
  {
   "cell_type": "code",
   "execution_count": 6,
   "id": "7495e538",
   "metadata": {},
   "outputs": [],
   "source": [
    "pattern = '|^'.join(brands)"
   ]
  },
  {
   "cell_type": "code",
   "execution_count": 7,
   "id": "3871a547",
   "metadata": {},
   "outputs": [],
   "source": [
    "#can also save pattern as text and retrieve it instead of loading csv all the time. \n",
    "with open(\"brand_names.txt\", \"w\") as f:\n",
    "    f.write(pattern)"
   ]
  },
  {
   "cell_type": "markdown",
   "id": "37496bb2",
   "metadata": {},
   "source": [
    "# Product groups and categories"
   ]
  },
  {
   "cell_type": "code",
   "execution_count": 31,
   "id": "2bb270c6",
   "metadata": {},
   "outputs": [],
   "source": [
    "product_groups = [\n",
    "    \"accessories coffee\", \"iced tea\", \"apples\", \"asparagus\", \"fennel\", \"artichokes\", \"avocados\", \"bananas\", \n",
    "    \"eggs\", \"coffee beans\", \"beef\", \"veal\", \"beef bones\", \"beef roasts\", \"beef steaks\", \n",
    "    \"beetroot\", \"berries\", \"cherries\", \"biscuits\", \"cookies\", \"block cheese\", \"blue cheese\", \n",
    "    \"bok choy\", \"asian greens\", \"boxed chocolate\", \"breakfast cereal\", \"muesli\", \"oats\", \n",
    "    \"breast fillets\", \"brie cheese\", \"soft cheese\", \"broccoli\", \"cauliflower\", \"bubble tea\", \n",
    "    \"cabbage\", \"kale\", \"brussels sprouts\", \"capsicum\", \"chillies\", \"carrots\", \"parsnips\", \"celery\", \n",
    "    \"cheddar cheese\", \"cheese snacks\", \"chicken\", \"turkey mince\", \"chicken wings\", \n",
    "    \"chocolate bags\", \"chocolate bars\", \"chocolate blocks\", \"chocolate multipacks\", \"chocolate spreads\", \n",
    "    \"coconuts\", \"coffee capsules\", \"ground coffee\", \"instant coffee\", \"coffee mixes\", \n",
    "    \"corn\", \"corn chips\", \"crackers\", \"crispbreads\", \"cream cheese\", \"crumbed beef\", \"crumbed chicken\", \n",
    "    \"cucumber\", \"cupcakes\", \"deli crab\", \"deli lobster\", \"deli fish\", \"deli marinara mix\", \"deli oysters\", \"deli prawns\", \n",
    "    \"lamb\", \"lamb chops\", \"lamb cutlets\", \"lamb mince\", \"lamb roasts\", \"lamb shanks\", \"lamb steak\", \n",
    "    \"digestive health bread\", \"drumsticks\", \"maryland chicken\", \"eggplant\", \"energy drink\", \n",
    "    \"family favourites\", \"feta cheese\", \"firm cheese\",\n",
    "    \"free range pork\", \"fruit cakes\", \"full cream milk\", \"gluten free cakes\", \"gluten free bread\", \n",
    "    \"gluten free cereal\", \"grapefruit\", \"grapes\", \"grated cheese\", \"ground coffee\", \n",
    "    \"gum\", \"mints\", \"haloumi\", \"bocconcini\", \"healthier start\", \"herbal tea\", \"honey\", \n",
    "    \"instant coffee\", \"jams\", \"kangaroo mince\", \"wallaby mince\", \"kebabs\", \"kiwi fruit\", \"kombucha\", \n",
    "    \"lamb offal\", \"lemons\", \"limes\", \"lettuce\", \"loaf cakes\", \"lollies\", \n",
    "    \"loose leaf tea\", \"mandarins\", \"mangoes\", \"marinades\", \"marinated chicken\", \n",
    "    \"mashed vegetables\", \"cut vegetables\", \"meat free beef\", \"medicated lozenges\", \n",
    "    \"melons\", \"meringues\", \"pavlovas\", \"milk\", \"flavoured milk\", \"muffins\", \"mushrooms\", \n",
    "    \"mustards\", \"nut spreads\", \"nuts\", \"trail mix\", \"oil\", \"onion\", \"leeks\", \n",
    "    \"oranges\", \"organic vegetables\", \"packaged donuts\", \"party packs\", \"passionfruit\", \n",
    "    \"pastry shells\", \"pates\", \"platters\", \"peaches\", \"nectarines\", \"pears\", \"peas\", \n",
    "    \"beans\", \"okra\", \"pineapples\", \"pizza\", \"pasta\", \"popcorn\", \"pork mince\", \n",
    "    \"pork chops\", \"pork marinade\", \"pork ribs\", \"pork roasts\", \"pork steaks\", \n",
    "    \"potato chips\", \"potatoes\", \"poultry deli\", \"prepacked seafood\", \"pretzels\", \n",
    "    \"probiotic milk\", \"pumpkin\", \"recipe bases\", \"meal bases\", \"rhubarbs\", \n",
    "    \"rice snacks\", \"corn snacks\", \"rye bread\", \"sausage mince\", \"savoury spreads\", \n",
    "    \"seasonal chocolates\", \"lollies\", \"single cans\", \"skim milk\", \"low fat milk\", \n",
    "    \"sliced cheese\", \"slices\", \"bites\", \"slow cook beef\", \"casserole beef\", \n",
    "    \"smoked fish\", \"cured fish\", \"snack crackers\", \"soft drink bottles\", \"soft drink cans\", \n",
    "    \"soy milk\", \"almond milk\", \"cow milk\", \"goat milk\", \"sliced cheese\", \"bread\", \"bagel\", \n",
    "    \"bialy\", \"croissant\", \"baguette\", \"toast\", \"burrito\", \"cake\", \"cheesecake\", \"chocolate cake\", \n",
    "    \"carrot cake\", \"strawberry cake\", \"ice-cream cake\", \"vanilla cake\", \"red velvet cake\", \n",
    "    \"cupcake\", \"fudge cake\", \"pancake\", \"poundcake\", \"chopped liver\", \"cheese\", \"mozzarella\", \n",
    "    \"brie\", \"feta\", \"blue cheese\", \"parmesan\", \"cheese stick\", \"cheesestrings\", \"congee\", \n",
    "    \"donuts\", \"jam\", \"sprinkles\", \"donut holes\", \"krispy kreme\", \"dumplings\", \"arepa\", \n",
    "    \"fun guo\", \"har gow\", \"momo\", \"pierogi\", \"wonton\", \"fruit\", \"cantaloupe\", \"durian\", \n",
    "    \"apricot\", \"blueberry\", \"raspberry\", \"blackberry\", \"french fries\", \"poutine\", \"gravy\", \n",
    "    \"cereal\", \"rice\", \"ice cream\", \"cookies and cream\", \"mint chocolate\", \"rocky road\", \n",
    "    \"biscuit tortoni\", \"blue moon\", \"queso\", \"hokey pokey\", \"moose tracks\", \"tiger tail\", \n",
    "    \"strawberry\", \"superman\", \"spumoni\", \"pistachio\", \"moon mist\", \"neapolitan\", \n",
    "    \"mashed potatoes\", \"wagyu\", \"steak\", \"bacon\", \"ham\", \"buffalo wing\", \"chicken balls\", \n",
    "    \"chicken nuggets\", \"chicken steak\", \"chicken feet\", \"roast chicken\", \"ribs\", \"fish\", \n",
    "    \"salmon\", \"shrimp\", \"prawn\", \"shark\", \"onion rings\", \"pasta\", \"lasagna\", \"linguini\", \"ravioli\", \n",
    "    \"carbonara\", \"bolognese\", \"spaghetti\", \"spaghetti and meatballs\", \"pancit canton\", \n",
    "    \"fettuccine\", \"pudding\", \"pupusa\", \"pie\", \"shepherds pie\", \"apple pie\", \"cream pie\", \n",
    "    \"pumpkin pie\", \"key lime pie\", \"peach pie\", \"pepperoni\", \"hawaiian\", \"margherita\", \n",
    "    \"rolls\", \"croquette\", \"egg roll\", \"spring roll\", \"lumpia\", \n",
    "    \"vegetable sandwich\", \"grilled cheese\", \"panini\", \"cheeseburgers\", \"bacon cheeseburger\", \n",
    "    \"hamburgers\", \"chicken burger\", \"hot dogs\", \"peanut butter and jam sandwich\", \n",
    "    \"chowder\", \"clam chowder\", \"corn chowder\", \"sinigang\", \"california roll\", \"stew\", \n",
    "    \"taco\", \"tamale\", \"turnover\", \"jamaican patty\", \"waffle\", \"roti canai\", \"chicken mince\", \"cream\",\"milk\",\"sandwich\"\n",
    "]"
   ]
  },
  {
   "cell_type": "code",
   "execution_count": 32,
   "id": "a222da9b",
   "metadata": {},
   "outputs": [],
   "source": [
    "np.save(\"product_groups.npy\",product_groups)"
   ]
  },
  {
   "cell_type": "raw",
   "id": "d090ef2e",
   "metadata": {},
   "source": [
    "product_groups_recipe = list(np.load(\"product_groups.npy\", allow_pickle = True))"
   ]
  },
  {
   "cell_type": "code",
   "execution_count": 49,
   "id": "16d6edf2",
   "metadata": {},
   "outputs": [
    {
     "name": "stdout",
     "output_type": "stream",
     "text": [
      "len of product groups self 335\n",
      "intersection 71\n"
     ]
    }
   ],
   "source": [
    "print(\"len of product groups self\", len(product_groups))\n",
    "print(\"intersection\", len(set(product_groups_recipe).intersection(set(product_groups))))"
   ]
  },
  {
   "cell_type": "code",
   "execution_count": 1,
   "id": "05ab883e",
   "metadata": {},
   "outputs": [],
   "source": [
    "Categories = {\n",
    "    \"Dairy\": [\"block cheese\", \"blue cheese\", \"cheddar cheese\", \"cream cheese\", \"feta cheese\", \"cream\"\n",
    "              \"brie cheese\", \"soft cheese\", \"firm cheese\", \"haloumi\", \"bocconcini\", \"probiotic milk\",\n",
    "              \"full cream milk\", \"flavoured milk\", \"almond milk\", \"soy milk\", \"cow milk\", \"goat milk\",\n",
    "              \"sliced cheese\", \"mozzarella\", \"parmesan\", \"cheese stick\", \"cheesestrings\",\"milk\",\"skim milk\", \n",
    "              \"low fat milk\", \"soy milk\", \"almond milk\", \"cow milk\", \"goat milk\", \"probiotic milk\"],\n",
    "    \n",
    "    \"Meat & Poultry\": [\"beef\", \"veal\", \"beef bones\", \"beef roasts\", \"beef steaks\", \"lamb\",\n",
    "                       \"lamb chops\", \"lamb cutlets\", \"lamb mince\", \"lamb roasts\", \"lamb shanks\",\n",
    "                       \"lamb steak\", \"chicken mince\", \"turkey mince\", \"chicken wings\", \"drumsticks\",\n",
    "                       \"maryland chicken\", \"crumbed beef\", \"crumbed chicken\", \"marinated chicken\",\n",
    "                       \"slow cook beef\", \"casserole beef\", \"sausage mince\", \"chicken\",\n",
    "                       \"eggs\", \"free range pork\"],\n",
    "    \n",
    "    \"Seafood\": [\"deli crab\", \"deli lobster\", \"deli fish\", \"deli marinara mix\", \"deli oysters\",\n",
    "                \"deli prawns\", \"prepacked seafood\", \"fish\", \"salmon\", \"shrimp\", \"prawn\", \"shark\"],\n",
    "    \n",
    "    \"Bread & Bakery\": [\"biscuits\", \"cookies\", \"digestive health bread\", \"gluten free bread\",\n",
    "                       \"wholemeal bread\", \"white bread\", \"loaf cakes\", \"sponge cakes\", \"muffins\",\n",
    "                       \"cupcakes\", \"packaged donuts\", \"toast\", \"bagel\", \"bialy\", \"croissant\",\n",
    "                       \"baguette\", \"cake\", \"cheesecake\", \"chocolate cake\", \"carrot cake\",\n",
    "                       \"strawberry cake\", \"ice-cream cake\", \"vanilla cake\", \"red velvet cake\",\n",
    "                       \"fudge cake\", \"pancake\", \"poundcake\", \"gluten free cakes\", \"rye bread\", \"sandwich\"],\n",
    "    \n",
    "    \"Beverages\": [\"accessories coffee\", \"iced tea\", \"bubble tea\", \"energy drink\", \"kombucha\",\n",
    "               \"sports drink\", \"soft drink bottles\", \"soft drink cans\", \"coffee beans\",\n",
    "               \"coffee capsules\", \"ground coffee\", \"instant coffee\", \"coffee mixes\",\n",
    "               \"tea black\", \"tea chai\", \"tea green\", \"tea herbal\", \"tea loose leaf\",\n",
    "               \"tea organic\", \"tea white\"],\n",
    "    \n",
    "    \"Snacks\": [\"corn chips\", \"crackers\", \"crispbreads\", \"nuts\", \"pretzels\", \"rice snacks\",\n",
    "               \"corn snacks\", \"lollies\", \"chocolate bags\", \"chocolate bars\", \"chocolate blocks\",\n",
    "               \"gum\", \"mints\", \"potato chips\", \"popcorn\", \"snack crackers\", \"sesame snap\",\n",
    "               \"ginger snap\", \"hardtack\", \"abernethy\", \"acıbadem kurabiyesi\", \"afghan biscuits\",\n",
    "               \"alfajor\", \"almond biscuit\", \"lebkuchen\", \"aachener printen\", \"cornish fairing\",\n",
    "               \"speculaas\", \"springerle\", \"kruidnoten\"],\n",
    "    \n",
    "    \"Condiments\": [\"honey\", \"jams\", \"mustards\", \"oil\", \"vinegar\", \"marinades\", \"savoury spreads\",\n",
    "                   \"bbq sauce\", \"tomato sauce\", \"gravy\"],\n",
    "    \n",
    "    \"Prepared foods\": [\"pizza\", \"pasta\", \"popcorn\", \"meat free beef\", \"kebabs\", \"recipe bases\",\n",
    "                       \"meal bases\", \"congee\", \"dumplings\", \"arepa\", \"fun guo\", \"har gow\",\n",
    "                       \"momo\", \"pierogi\", \"wonton\", \"pancit canton\", \"fettuccine\", \"pudding\",\n",
    "                       \"pupusa\", \"pie\", \"shepherds pie\", \"apple pie\", \"cream pie\", \"pumpkin pie\",\n",
    "                       \"key lime pie\", \"peach pie\", \"croquette\", \"egg roll\", \"spring roll\",\n",
    "                       \"lumpia\", \"burrito\", \"taco\", \"tamale\", \"turnover\", \"jamaican patty\",\n",
    "                       \"waffle\", \"roti canai\"],\n",
    "    \n",
    "    \"Breakfast\": [\"breakfast cereal\", \"muesli\", \"oats\", \"fruit cakes\", \"pancake\"],\n",
    "    \n",
    "    \"Fruits\": [\"apples\", \"bananas\", \"berries\", \"cherries\", \"cantaloupe\", \"durian\", \"oranges\",\n",
    "               \"grapefruit\", \"kiwi fruit\", \"mandarins\", \"mangoes\", \"passionfruit\", \"peaches\",\n",
    "               \"nectarines\", \"pears\", \"pineapples\", \"blueberry\", \"raspberry\", \"blackberry\"],\n",
    "    \n",
    "    \"Vegetables\": [\"asparagus\", \"fennel\", \"artichokes\", \"avocados\", \"beetroot\", \"bok choy\",\n",
    "                   \"asian greens\", \"broccoli\", \"cauliflower\", \"cabbage\", \"kale\", \"brussels sprouts\",\n",
    "                   \"capsicum\", \"chillies\", \"carrots\", \"parsnips\", \"celery\", \"cucumber\", \"eggplant\",\n",
    "                   \"lemons\", \"limes\", \"lettuce\", \"okra\", \"pumpkin\", \"rhubarbs\"],\n",
    "    \n",
    "    \"other\": [\"chopped liver\", \"cheese\", \"mozzarella\", \"brie\", \"feta\", \"blue cheese\", \"parmesan\",\n",
    "              \"cheese stick\", \"cheesestrings\", \"snack crackers\", \"single cans\", \"medicated lozenges\",\n",
    "              \"party packs\", \"marinated chicken\", \"healthier start\", \"savoury spreads\", \"nut spreads\",\n",
    "              \"trail mix\", \"pastry shells\", \"pates\", \"platters\", \"meat free beef\", \"gluten free cereal\"]\n",
    "}"
   ]
  },
  {
   "cell_type": "code",
   "execution_count": 5,
   "id": "ba2b5c53",
   "metadata": {},
   "outputs": [
    {
     "data": {
      "text/plain": [
       "dict_keys(['Dairy', 'Meat & Poultry', 'Seafood', 'Bread & Bakery', 'Beverages', 'Snacks', 'Condiments', 'Prepared foods', 'Breakfast', 'Fruits', 'Vegetables', 'other'])"
      ]
     },
     "execution_count": 5,
     "metadata": {},
     "output_type": "execute_result"
    }
   ],
   "source": [
    "Categories.keys()"
   ]
  },
  {
   "cell_type": "code",
   "execution_count": 34,
   "id": "4fa964b9",
   "metadata": {},
   "outputs": [],
   "source": [
    "with open(\"Categories.json\", \"w\") as outfile: \n",
    "    json.dump(Categories, outfile)"
   ]
  },
  {
   "cell_type": "markdown",
   "id": "eb1f6371",
   "metadata": {},
   "source": [
    "# Functions to categorise, quantity"
   ]
  },
  {
   "cell_type": "code",
   "execution_count": 23,
   "id": "42eee013",
   "metadata": {},
   "outputs": [],
   "source": [
    "#required files\n",
    "with open('Categories.json', 'r') as file:\n",
    "    Categories = json.load(file)\n",
    "product_groups = list(np.load(\"product_groups.npy\", allow_pickle = True))\n",
    "\n",
    "with open(\"brand_names.txt\", \"r\") as file:\n",
    "    pattern = file.read()\n",
    "    "
   ]
  },
  {
   "cell_type": "code",
   "execution_count": 24,
   "id": "e4721ea4",
   "metadata": {},
   "outputs": [],
   "source": [
    "def get_category(Categories, group):\n",
    "    for key,val in Categories.items():  # for name, age in dictionary.iteritems():  (for Python 2.x)\n",
    "        if group in val:\n",
    "            return(key)\n",
    "    return(\"Other\")"
   ]
  },
  {
   "cell_type": "code",
   "execution_count": 25,
   "id": "48502602",
   "metadata": {},
   "outputs": [],
   "source": [
    "#get quantity final\n",
    "#the quantity information is always in the end\n",
    "def get_quantity(input_text):\n",
    "    input_quantity = input_text.split(\" \")[-1]\n",
    "    if input_quantity == \"\":\n",
    "        return \"\",\"\"\n",
    "    elif input_quantity[0] in ['0','1','2','3','4','5','6','7','8','9']: #if the last text is quantity - get value and untis\n",
    "        return(re.sub(\"[a-zA-Z//]*\", \"\", input_quantity), (re.sub(\"[0-9\\\\.]*\", \"\", input_quantity)).lower())\n",
    "    elif input_quantity == \"pack\":\n",
    "        return(input_text.split(\" \")[-2], input_text.split(\" \")[-1])\n",
    "    else: #if the last text is not a quantity return empty \n",
    "        return \"\", \"\""
   ]
  },
  {
   "cell_type": "code",
   "execution_count": 29,
   "id": "a1a7c6dc",
   "metadata": {},
   "outputs": [],
   "source": [
    "# Remove any brand name from the text\n",
    "def get_info(pattern, Categories, product_groups, input_text):\n",
    "    input_text = input_text.lower()\n",
    "    \n",
    "    #remove quantity\n",
    "    #\"[0-9]*pk|[0-9]*mg|[0-9]*gms|[0-9]*kg|[0-9]*ml|[0-9]*l\"\n",
    "    quantity = \"\".join(get_quantity(input_text))\n",
    "    input_text = re.sub(quantity, \"\", input_text)\n",
    "    #print(\"quantity:\", quantity)\n",
    "    \n",
    "    #remove brand\n",
    "    # Create a regex pattern to match the brands (case insensitive)\n",
    "    cleaned_text = re.sub(pattern, '', input_text).strip()\n",
    "    #print(\"item:\", cleaned_text)\n",
    "    \n",
    "    #extract category\n",
    "    best_match = process.extractOne(cleaned_text, product_groups)\n",
    "    #print(\"Category:\", get_category(best_match[0]) )\n",
    "    \n",
    "    #return(f\"Best match product group: {best_match[0]} with a confidence of {best_match[1]}\")\n",
    "    #print(f\"product group: {best_match[0]}\")\n",
    "    return {\"item\": cleaned_text.title(), \"category\": get_category(Categories, best_match[0]), \"quantity\": quantity}\n",
    "    #\"product group\": best_match[0]"
   ]
  },
  {
   "cell_type": "code",
   "execution_count": 30,
   "id": "f3d9d465",
   "metadata": {},
   "outputs": [
    {
     "data": {
      "text/plain": [
       "{'item': 'Hemp Oil Cold Pressed',\n",
       " 'Category': 'Condiments',\n",
       " 'quantity': '250ml'}"
      ]
     },
     "execution_count": 30,
     "metadata": {},
     "output_type": "execute_result"
    }
   ],
   "source": [
    "get_info(pattern, Categories, product_groups, \"Em Wholefoods Hemp Oil Cold Pressed 250mL\")"
   ]
  },
  {
   "cell_type": "markdown",
   "id": "a9e9fe72",
   "metadata": {},
   "source": [
    "# Example"
   ]
  },
  {
   "cell_type": "code",
   "execution_count": 51,
   "id": "1e42926c",
   "metadata": {},
   "outputs": [],
   "source": [
    "# Remove any brand name from the text\n",
    "def get_info(input_text):\n",
    "    input_text = input_text.lower()\n",
    "    \n",
    "    #remove quantity\n",
    "    #\"[0-9]*pk|[0-9]*mg|[0-9]*gms|[0-9]*kg|[0-9]*ml|[0-9]*l\"\n",
    "    quantity = \"\".join(get_quantity(input_text))\n",
    "    input_text = re.sub(quantity, \"\", input_text)\n",
    "    print(\"quantity:\", quantity)\n",
    "    \n",
    "    #remove brand\n",
    "    # Create a regex pattern to match the brands (case insensitive)\n",
    "    cleaned_text = re.sub(pattern, '', input_text).strip()\n",
    "    print(\"item:\", cleaned_text)\n",
    "    \n",
    "    #extract category\n",
    "    best_match = process.extractOne(cleaned_text, product_groups)\n",
    "    print(\"Category:\", get_category(best_match[0]) )\n",
    "    \n",
    "    return(f\"Best match product group: {best_match[0]} with a confidence of {best_match[1]}\")\n",
    "    #return(f\"product group: {best_match[0]}\")"
   ]
  },
  {
   "cell_type": "code",
   "execution_count": 56,
   "id": "4f5922db",
   "metadata": {},
   "outputs": [
    {
     "name": "stdout",
     "output_type": "stream",
     "text": [
      "quantity: 700gms\n",
      "item: eggs f/range x1 12pk\n",
      "Category: Meat & Poultry\n",
      "Best match product group: eggs with a confidence of 90.0\n",
      "\n",
      "\n",
      "quantity: 250ml\n",
      "item: hemp oil cold pressed\n",
      "Category: Condiments\n",
      "Best match product group: oil with a confidence of 90.0\n",
      "\n",
      "\n",
      "quantity: 65cy\n",
      "item: white toast soft\n",
      "Category: Bread & Bakery\n",
      "Best match product group: toast with a confidence of 90.0\n",
      "\n",
      "\n",
      "quantity: \n",
      "item: spaghetti rich tomato\n",
      "Category: Other\n",
      "Best match product group: spaghetti with a confidence of 90.0\n",
      "\n",
      "\n",
      "quantity: 450g\n",
      "item: butter chicken simmer sauce mild\n",
      "Category: Other\n",
      "Best match product group: free range chicken with a confidence of 85.5\n",
      "\n",
      "\n",
      "quantity: 1each\n",
      "item: %c 1/2 fam ht chicken\n",
      "Category: Meat & Poultry\n",
      "Best match product group: chicken wings with a confidence of 85.5\n",
      "\n",
      "\n"
     ]
    }
   ],
   "source": [
    "# Input text\n",
    "print(get_info(\"Sunny queen eggs F/range X1 12pk 700gms\"))\n",
    "print(\"\\n\")\n",
    "print(get_info(\"Em Wholefoods Hemp Oil Cold Pressed 250mL\"))\n",
    "print(\"\\n\")\n",
    "print(get_info(\"Woolworths White Toast Soft 65Cy\"))\n",
    "print(\"\\n\")\n",
    "print(get_info(\"Spc Spaghetti Rich Tomato\"))\n",
    "print(\"\\n\")\n",
    "print(get_info(\"Patak's Butter Chicken Simmer Sauce Mild 450g\"))\n",
    "print(\"\\n\")\n",
    "\n",
    "print(get_info(\"%C 1/2 fam ht chicken 1each\"))\n",
    "print(\"\\n\")"
   ]
  },
  {
   "cell_type": "markdown",
   "id": "560c7f9e",
   "metadata": {},
   "source": []
  }
 ],
 "metadata": {
  "kernelspec": {
   "display_name": "Python 3 (ipykernel)",
   "language": "python",
   "name": "python3"
  },
  "language_info": {
   "codemirror_mode": {
    "name": "ipython",
    "version": 3
   },
   "file_extension": ".py",
   "mimetype": "text/x-python",
   "name": "python",
   "nbconvert_exporter": "python",
   "pygments_lexer": "ipython3",
   "version": "3.9.12"
  },
  "toc": {
   "base_numbering": 1,
   "nav_menu": {},
   "number_sections": true,
   "sideBar": true,
   "skip_h1_title": false,
   "title_cell": "Table of Contents",
   "title_sidebar": "Contents",
   "toc_cell": true,
   "toc_position": {},
   "toc_section_display": true,
   "toc_window_display": false
  }
 },
 "nbformat": 4,
 "nbformat_minor": 5
}
