{
 "cells": [
  {
   "cell_type": "markdown",
   "id": "bbcf53e2",
   "metadata": {
    "toc": true
   },
   "source": [
    "<h1>Table of Contents<span class=\"tocSkip\"></span></h1>\n",
    "<div class=\"toc\"><ul class=\"toc-item\"><li><span><a href=\"#Pandas\" data-toc-modified-id=\"Pandas-1\"><span class=\"toc-item-num\">1&nbsp;&nbsp;</span>Pandas</a></span></li><li><span><a href=\"#Fuzzy\" data-toc-modified-id=\"Fuzzy-2\"><span class=\"toc-item-num\">2&nbsp;&nbsp;</span>Fuzzy</a></span></li><li><span><a href=\"#Similarity-algorithms\" data-toc-modified-id=\"Similarity-algorithms-3\"><span class=\"toc-item-num\">3&nbsp;&nbsp;</span>Similarity algorithms</a></span></li><li><span><a href=\"#Merging-categories-with-recipes\" data-toc-modified-id=\"Merging-categories-with-recipes-4\"><span class=\"toc-item-num\">4&nbsp;&nbsp;</span>Merging categories with recipes</a></span></li></ul></div>"
   ]
  },
  {
   "cell_type": "code",
   "execution_count": 25,
   "id": "3f44bfcf",
   "metadata": {},
   "outputs": [],
   "source": [
    "import pandas as pd\n",
    "import ast\n",
    "import dask.dataframe as dd\n",
    "from rapidfuzz import process"
   ]
  },
  {
   "cell_type": "code",
   "execution_count": 2,
   "id": "25554dc1",
   "metadata": {},
   "outputs": [],
   "source": [
    "recipe_data = pd.read_csv(r\"C:\\Users\\rishi\\OneDrive - Monash University\\Documents\\Monash\\MDS Y2 S2\\IE\\Iteration 2\\recipe_Data\\dataset\\full_dataset.csv\")"
   ]
  },
  {
   "cell_type": "code",
   "execution_count": 3,
   "id": "760c3091",
   "metadata": {},
   "outputs": [],
   "source": [
    "recipe_data = recipe_data.drop([\"Unnamed: 0\", \"link\", \"source\"], axis = 1)"
   ]
  },
  {
   "cell_type": "code",
   "execution_count": 4,
   "id": "18f2debb",
   "metadata": {},
   "outputs": [
    {
     "data": {
      "text/plain": [
       "(2231142, 4)"
      ]
     },
     "execution_count": 4,
     "metadata": {},
     "output_type": "execute_result"
    }
   ],
   "source": [
    "recipe_data.shape"
   ]
  },
  {
   "cell_type": "code",
   "execution_count": 5,
   "id": "dcc6f626",
   "metadata": {},
   "outputs": [
    {
     "data": {
      "text/html": [
       "<div>\n",
       "<style scoped>\n",
       "    .dataframe tbody tr th:only-of-type {\n",
       "        vertical-align: middle;\n",
       "    }\n",
       "\n",
       "    .dataframe tbody tr th {\n",
       "        vertical-align: top;\n",
       "    }\n",
       "\n",
       "    .dataframe thead th {\n",
       "        text-align: right;\n",
       "    }\n",
       "</style>\n",
       "<table border=\"1\" class=\"dataframe\">\n",
       "  <thead>\n",
       "    <tr style=\"text-align: right;\">\n",
       "      <th></th>\n",
       "      <th>title</th>\n",
       "      <th>ingredients</th>\n",
       "      <th>directions</th>\n",
       "      <th>NER</th>\n",
       "    </tr>\n",
       "  </thead>\n",
       "  <tbody>\n",
       "    <tr>\n",
       "      <th>0</th>\n",
       "      <td>No-Bake Nut Cookies</td>\n",
       "      <td>[\"1 c. firmly packed brown sugar\", \"1/2 c. eva...</td>\n",
       "      <td>[\"In a heavy 2-quart saucepan, mix brown sugar...</td>\n",
       "      <td>[\"brown sugar\", \"milk\", \"vanilla\", \"nuts\", \"bu...</td>\n",
       "    </tr>\n",
       "    <tr>\n",
       "      <th>1</th>\n",
       "      <td>Jewell Ball'S Chicken</td>\n",
       "      <td>[\"1 small jar chipped beef, cut up\", \"4 boned ...</td>\n",
       "      <td>[\"Place chipped beef on bottom of baking dish....</td>\n",
       "      <td>[\"beef\", \"chicken breasts\", \"cream of mushroom...</td>\n",
       "    </tr>\n",
       "  </tbody>\n",
       "</table>\n",
       "</div>"
      ],
      "text/plain": [
       "                   title                                        ingredients  \\\n",
       "0    No-Bake Nut Cookies  [\"1 c. firmly packed brown sugar\", \"1/2 c. eva...   \n",
       "1  Jewell Ball'S Chicken  [\"1 small jar chipped beef, cut up\", \"4 boned ...   \n",
       "\n",
       "                                          directions  \\\n",
       "0  [\"In a heavy 2-quart saucepan, mix brown sugar...   \n",
       "1  [\"Place chipped beef on bottom of baking dish....   \n",
       "\n",
       "                                                 NER  \n",
       "0  [\"brown sugar\", \"milk\", \"vanilla\", \"nuts\", \"bu...  \n",
       "1  [\"beef\", \"chicken breasts\", \"cream of mushroom...  "
      ]
     },
     "execution_count": 5,
     "metadata": {},
     "output_type": "execute_result"
    }
   ],
   "source": [
    "recipe_data.head(2)"
   ]
  },
  {
   "cell_type": "code",
   "execution_count": 147,
   "id": "75e474f7",
   "metadata": {},
   "outputs": [],
   "source": [
    "df = recipe_data[[\"NER\"]]"
   ]
  },
  {
   "cell_type": "code",
   "execution_count": 148,
   "id": "959390b6",
   "metadata": {},
   "outputs": [],
   "source": [
    "#converting the str to text\n",
    "for i in range(df.shape[0]):\n",
    "    df.at[i, \"NER\"] = ast.literal_eval(df.iloc[i, 0].lower())"
   ]
  },
  {
   "cell_type": "code",
   "execution_count": 149,
   "id": "27b8791e",
   "metadata": {},
   "outputs": [
    {
     "data": {
      "text/html": [
       "<div>\n",
       "<style scoped>\n",
       "    .dataframe tbody tr th:only-of-type {\n",
       "        vertical-align: middle;\n",
       "    }\n",
       "\n",
       "    .dataframe tbody tr th {\n",
       "        vertical-align: top;\n",
       "    }\n",
       "\n",
       "    .dataframe thead th {\n",
       "        text-align: right;\n",
       "    }\n",
       "</style>\n",
       "<table border=\"1\" class=\"dataframe\">\n",
       "  <thead>\n",
       "    <tr style=\"text-align: right;\">\n",
       "      <th></th>\n",
       "      <th>NER</th>\n",
       "    </tr>\n",
       "  </thead>\n",
       "  <tbody>\n",
       "    <tr>\n",
       "      <th>0</th>\n",
       "      <td>[brown sugar, milk, vanilla, nuts, butter, bit...</td>\n",
       "    </tr>\n",
       "    <tr>\n",
       "      <th>1</th>\n",
       "      <td>[beef, chicken breasts, cream of mushroom soup...</td>\n",
       "    </tr>\n",
       "    <tr>\n",
       "      <th>2</th>\n",
       "      <td>[frozen corn, cream cheese, butter, garlic pow...</td>\n",
       "    </tr>\n",
       "    <tr>\n",
       "      <th>3</th>\n",
       "      <td>[chicken, chicken gravy, cream of mushroom sou...</td>\n",
       "    </tr>\n",
       "    <tr>\n",
       "      <th>4</th>\n",
       "      <td>[peanut butter, graham cracker crumbs, butter,...</td>\n",
       "    </tr>\n",
       "  </tbody>\n",
       "</table>\n",
       "</div>"
      ],
      "text/plain": [
       "                                                 NER\n",
       "0  [brown sugar, milk, vanilla, nuts, butter, bit...\n",
       "1  [beef, chicken breasts, cream of mushroom soup...\n",
       "2  [frozen corn, cream cheese, butter, garlic pow...\n",
       "3  [chicken, chicken gravy, cream of mushroom sou...\n",
       "4  [peanut butter, graham cracker crumbs, butter,..."
      ]
     },
     "execution_count": 149,
     "metadata": {},
     "output_type": "execute_result"
    }
   ],
   "source": [
    "df.head()"
   ]
  },
  {
   "cell_type": "markdown",
   "id": "0358192b",
   "metadata": {},
   "source": [
    "I want to generate recipes based on NER\n",
    "e.g.\n",
    "- I have \"milk\", \"vanilla\", \"chicken\", \"rice\"\n",
    "- give top 5 matches that has most of these ingredients\n",
    "- show the ones that are used and not used in the recipe. \n",
    "- then when one of them is clicked --> the instructions is shown\n",
    "\n",
    "To do code:\n",
    "- I have input = [\"milk\", \"vanilla\", \"chicken\", \"rice\"]\n",
    "- the 'NER' column in 'recipe_data' has '[\"brown sugar\", \"milk\", \"vanilla\", \"nuts\", \"butter\", \"bite size shredded rice biscuits\"]'\n",
    "- give top 5 matches that has most of input in 'NER' column(ingredients of the recipe)\n",
    "- show the ones that are present and not present in the 'NER' column(ingredients) \n",
    "\n",
    "what are the different ways to do this:\n",
    "\n",
    "- similarity search algorithms\n",
    "- ML model. x = NER. y = Title ?\n",
    "- decision tree model like thing - recipes under brown sugar. another branch of milk. now get the branch that goes down atleast a bit. \n",
    "- Fuzzy match - match your list with that NER list\n",
    "- for loop. get input[i] in NER. get recipes with max count on input in NER. - for loop - search the count of items present and not present in recipe - time consuming\n"
   ]
  },
  {
   "cell_type": "markdown",
   "id": "be3172d2",
   "metadata": {},
   "source": [
    "# Pandas"
   ]
  },
  {
   "cell_type": "code",
   "execution_count": 15,
   "id": "61d3af4a",
   "metadata": {},
   "outputs": [],
   "source": [
    "input_ingredients = set([\"milk\", \"vanilla\", \"chicken\", \"rice\"])"
   ]
  },
  {
   "cell_type": "code",
   "execution_count": 21,
   "id": "d7fd41a6",
   "metadata": {},
   "outputs": [
    {
     "name": "stdout",
     "output_type": "stream",
     "text": [
      "CPU times: total: 8.67 s\n",
      "Wall time: 21.8 s\n"
     ]
    }
   ],
   "source": [
    "%%time\n",
    "\n",
    "# Convert pandas DataFrame to dask DataFrame\n",
    "ddf = dd.from_pandas(df, npartitions=10)\n",
    "\n",
    "# Perform the same operation\n",
    "ddf[\"present\"] = ddf[\"NER\"].apply(lambda x: list(input_ingredients.intersection(set(x))), meta=('x', 'object'))\n",
    "ddf[\"not_present\"] = ddf[\"NER\"].apply(lambda x: list(input_ingredients.difference(set(x))), meta=('x', 'object'))\n",
    "ddf[\"match_count\"] = ddf[\"present\"].apply(len, meta=('x', 'int'))\n",
    "\n",
    "# Get top 5 matches\n",
    "top_matches = ddf.nlargest(5, \"match_count\").compute()\n"
   ]
  },
  {
   "cell_type": "code",
   "execution_count": 24,
   "id": "f7a3e343",
   "metadata": {},
   "outputs": [
    {
     "data": {
      "text/html": [
       "<div>\n",
       "<style scoped>\n",
       "    .dataframe tbody tr th:only-of-type {\n",
       "        vertical-align: middle;\n",
       "    }\n",
       "\n",
       "    .dataframe tbody tr th {\n",
       "        vertical-align: top;\n",
       "    }\n",
       "\n",
       "    .dataframe thead th {\n",
       "        text-align: right;\n",
       "    }\n",
       "</style>\n",
       "<table border=\"1\" class=\"dataframe\">\n",
       "  <thead>\n",
       "    <tr style=\"text-align: right;\">\n",
       "      <th></th>\n",
       "      <th>NER</th>\n",
       "      <th>present</th>\n",
       "      <th>not_present</th>\n",
       "      <th>match_count</th>\n",
       "    </tr>\n",
       "  </thead>\n",
       "  <tbody>\n",
       "    <tr>\n",
       "      <th>2866</th>\n",
       "      <td>[chicken, rice, cream of mushroom soup, cream ...</td>\n",
       "      <td>[rice, milk, chicken]</td>\n",
       "      <td>[vanilla]</td>\n",
       "      <td>3</td>\n",
       "    </tr>\n",
       "    <tr>\n",
       "      <th>3030</th>\n",
       "      <td>[rice, sugar, raisins, vanilla, milk, milk]</td>\n",
       "      <td>[vanilla, rice, milk]</td>\n",
       "      <td>[chicken]</td>\n",
       "      <td>3</td>\n",
       "    </tr>\n",
       "    <tr>\n",
       "      <th>3400</th>\n",
       "      <td>[eggs, sugar, milk, cornstarch, vanilla, lemon...</td>\n",
       "      <td>[vanilla, rice, milk]</td>\n",
       "      <td>[chicken]</td>\n",
       "      <td>3</td>\n",
       "    </tr>\n",
       "    <tr>\n",
       "      <th>4128</th>\n",
       "      <td>[water, milk, rice, eggs, sugar, vanilla]</td>\n",
       "      <td>[vanilla, rice, milk]</td>\n",
       "      <td>[chicken]</td>\n",
       "      <td>3</td>\n",
       "    </tr>\n",
       "    <tr>\n",
       "      <th>4532</th>\n",
       "      <td>[chicken, bread crumbs, rice, onion, celery, p...</td>\n",
       "      <td>[rice, milk, chicken]</td>\n",
       "      <td>[vanilla]</td>\n",
       "      <td>3</td>\n",
       "    </tr>\n",
       "  </tbody>\n",
       "</table>\n",
       "</div>"
      ],
      "text/plain": [
       "                                                    NER  \\\n",
       "2866  [chicken, rice, cream of mushroom soup, cream ...   \n",
       "3030        [rice, sugar, raisins, vanilla, milk, milk]   \n",
       "3400  [eggs, sugar, milk, cornstarch, vanilla, lemon...   \n",
       "4128          [water, milk, rice, eggs, sugar, vanilla]   \n",
       "4532  [chicken, bread crumbs, rice, onion, celery, p...   \n",
       "\n",
       "                    present not_present  match_count  \n",
       "2866  [rice, milk, chicken]   [vanilla]            3  \n",
       "3030  [vanilla, rice, milk]   [chicken]            3  \n",
       "3400  [vanilla, rice, milk]   [chicken]            3  \n",
       "4128  [vanilla, rice, milk]   [chicken]            3  \n",
       "4532  [rice, milk, chicken]   [vanilla]            3  "
      ]
     },
     "execution_count": 24,
     "metadata": {},
     "output_type": "execute_result"
    }
   ],
   "source": [
    "top_matches"
   ]
  },
  {
   "cell_type": "code",
   "execution_count": 23,
   "id": "fd801c49",
   "metadata": {},
   "outputs": [
    {
     "data": {
      "text/plain": [
       "Int64Index([2866, 3030, 3400, 4128, 4532], dtype='int64')"
      ]
     },
     "execution_count": 23,
     "metadata": {},
     "output_type": "execute_result"
    }
   ],
   "source": [
    "top_matches.index"
   ]
  },
  {
   "cell_type": "markdown",
   "id": "5c835c14",
   "metadata": {},
   "source": [
    "# Fuzzy"
   ]
  },
  {
   "cell_type": "code",
   "execution_count": 30,
   "id": "405b2873",
   "metadata": {},
   "outputs": [
    {
     "name": "stdout",
     "output_type": "stream",
     "text": [
      "CPU times: total: 13.1 s\n",
      "Wall time: 21.5 s\n"
     ]
    },
    {
     "data": {
      "text/plain": [
       "'[\"chicken\", \"rice\"]'"
      ]
     },
     "execution_count": 30,
     "metadata": {},
     "output_type": "execute_result"
    }
   ],
   "source": [
    "%%time\n",
    "best_match = process.extractOne(\"[milk, vanilla, chicken, rice]\", recipe_data[\"NER\"])\n",
    "best_match[0]\n",
    "\n",
    "#this can only give one output"
   ]
  },
  {
   "cell_type": "code",
   "execution_count": 29,
   "id": "ae268f89",
   "metadata": {},
   "outputs": [
    {
     "name": "stdout",
     "output_type": "stream",
     "text": [
      "CPU times: total: 12.3 s\n",
      "Wall time: 23.4 s\n"
     ]
    },
    {
     "data": {
      "text/plain": [
       "['will', ']']"
      ]
     },
     "execution_count": 29,
     "metadata": {},
     "output_type": "execute_result"
    }
   ],
   "source": [
    "%%time\n",
    "best_match = process.extractOne(\"[milk, vanilla, chicken, rice]\", ddf[\"NER\"])\n",
    "best_match[0]\n",
    "\n",
    "#this can only give one output though"
   ]
  },
  {
   "cell_type": "markdown",
   "id": "df35cfb4",
   "metadata": {},
   "source": [
    "# Similarity algorithms"
   ]
  },
  {
   "cell_type": "markdown",
   "id": "9a9f6f64",
   "metadata": {},
   "source": [
    "https://spotintelligence.com/2022/12/19/text-similarity-python/ "
   ]
  },
  {
   "cell_type": "markdown",
   "id": "1003b06e",
   "metadata": {},
   "source": [
    "Jaccard index = proportion of common elements between two sets.\n",
    "The Jaccard index is particularly useful when the presence or absence of elements in the sets is more important than their frequency or order. For example, it can be used to compare the similarity of two documents by considering the sets of words that appear in each document.\n",
    "J(A,B) = |A ∩ B| / |A ∪ B|\n",
    "\n",
    "When using this algorithm we will include recipe that has more items included from input in the recipe list and less items ignored in input list or recipe list. "
   ]
  },
  {
   "cell_type": "code",
   "execution_count": 172,
   "id": "bb58a27c",
   "metadata": {},
   "outputs": [],
   "source": [
    "def jaccard_similarity(input_items, recipe_ingredients):\n",
    "    input_items = set(input_items)\n",
    "    recipe_ingredients = set(recipe_ingredients)\n",
    "    # intersection of two sets\n",
    "    intersection = len(input_items.intersection(recipe_ingredients))\n",
    "    # Unions of two sets\n",
    "    union = len(input_items.union(recipe_ingredients))\n",
    "    return intersection / union"
   ]
  },
  {
   "cell_type": "code",
   "execution_count": 175,
   "id": "3fc03af7",
   "metadata": {},
   "outputs": [
    {
     "name": "stdout",
     "output_type": "stream",
     "text": [
      "CPU times: total: 2.23 s\n",
      "Wall time: 5.72 s\n"
     ]
    },
    {
     "name": "stderr",
     "output_type": "stream",
     "text": [
      "<timed exec>:2: SettingWithCopyWarning: \n",
      "A value is trying to be set on a copy of a slice from a DataFrame.\n",
      "Try using .loc[row_indexer,col_indexer] = value instead\n",
      "\n",
      "See the caveats in the documentation: https://pandas.pydata.org/pandas-docs/stable/user_guide/indexing.html#returning-a-view-versus-a-copy\n"
     ]
    }
   ],
   "source": [
    "%%time\n",
    "input_ingredients = set([\"milk\", \"bread\", \"chicken\", \"rice\"])\n",
    "df[\"similarity_score\"] = df['NER'].apply(lambda x: jaccard_similarity(input_ingredients, x))\n",
    "indices = df.nlargest(n=5, columns = \"similarity_score\").index"
   ]
  },
  {
   "cell_type": "code",
   "execution_count": 179,
   "id": "6d480edb",
   "metadata": {},
   "outputs": [
    {
     "name": "stdout",
     "output_type": "stream",
     "text": [
      "Items from food inventry:  {'bread', 'rice', 'milk', 'chicken'}\n",
      "Items available to do this recipe:  {'bread', 'rice', 'chicken'}\n",
      "Items not available to do this recipe:  {'beef'}\n",
      "\n",
      "\n",
      "Recipe name: Surprise Rice And Gravy\n",
      "Ingredients: [\"10 c. rice\", \"2 c. roast beef\", \"1 chicken leg\", \"bread\"]\n",
      "Recipe:  [\"Cut the chicken and roast beef.\", \"Stir it; put in rice.\", \"Add some bread and cook for a while.\", \"Yum!\"]\n"
     ]
    }
   ],
   "source": [
    "i = 4\n",
    "print(\"Items from food inventry: \", input_ingredients)\n",
    "print(\"Items available to do this recipe: \", input_ingredients.intersection(df.iloc[indices[i],0]))\n",
    "#print(input_ingredients.difference(df.iloc[indices[i],0]))\n",
    "print(\"Items not available to do this recipe: \", set(df.iloc[indices[i],0]).difference(input_ingredients))\n",
    "print(\"\\n\")\n",
    "print(\"Recipe name:\", recipe_data.iloc[indices[i], 0])\n",
    "print(\"Ingredients:\", recipe_data.iloc[indices[i], 1])\n",
    "print(\"Recipe: \", recipe_data.iloc[indices[i], 2])"
   ]
  },
  {
   "cell_type": "code",
   "execution_count": 210,
   "id": "e3aeef0f",
   "metadata": {},
   "outputs": [
    {
     "name": "stderr",
     "output_type": "stream",
     "text": [
      "<timed exec>:2: SettingWithCopyWarning: \n",
      "A value is trying to be set on a copy of a slice from a DataFrame.\n",
      "Try using .loc[row_indexer,col_indexer] = value instead\n",
      "\n",
      "See the caveats in the documentation: https://pandas.pydata.org/pandas-docs/stable/user_guide/indexing.html#returning-a-view-versus-a-copy\n"
     ]
    },
    {
     "name": "stdout",
     "output_type": "stream",
     "text": [
      "CPU times: total: 1.52 s\n",
      "Wall time: 5.39 s\n"
     ]
    }
   ],
   "source": [
    "%%time\n",
    "input_ingredients = set([\"white toast soft\"])\n",
    "df[\"similarity_score\"] = df['NER'].apply(lambda x: jaccard_similarity(input_ingredients, x))\n",
    "indices = df.nlargest(n=5, columns = \"similarity_score\").index"
   ]
  },
  {
   "cell_type": "code",
   "execution_count": 211,
   "id": "a4d8bdde",
   "metadata": {},
   "outputs": [
    {
     "name": "stdout",
     "output_type": "stream",
     "text": [
      "Items from food inventry:  {'white toast soft'}\n",
      "Items available to do this recipe:  set()\n",
      "Items not available to do this recipe:  {'butter', 'peanut butter', 'chocolate chips', 'graham cracker crumbs', 'powdered sugar'}\n",
      "\n",
      "\n",
      "Recipe name: Reeses Cups(Candy)  \n",
      "Ingredients: [\"1 c. peanut butter\", \"3/4 c. graham cracker crumbs\", \"1 c. melted butter\", \"1 lb. (3 1/2 c.) powdered sugar\", \"1 large pkg. chocolate chips\"]\n",
      "Recipe:  [\"Combine first four ingredients and press in 13 x 9-inch ungreased pan.\", \"Melt chocolate chips and spread over mixture. Refrigerate for about 20 minutes and cut into pieces before chocolate gets hard.\", \"Keep in refrigerator.\"]\n"
     ]
    }
   ],
   "source": [
    "i = 4\n",
    "print(\"Items from food inventry: \", input_ingredients)\n",
    "print(\"Items available to do this recipe: \", input_ingredients.intersection(df.iloc[indices[i],0]))\n",
    "#print(input_ingredients.difference(df.iloc[indices[i],0]))\n",
    "print(\"Items not available to do this recipe: \", set(df.iloc[indices[i],0]).difference(input_ingredients))\n",
    "print(\"\\n\")\n",
    "print(\"Recipe name:\", recipe_data.iloc[indices[i], 0])\n",
    "print(\"Ingredients:\", recipe_data.iloc[indices[i], 1])\n",
    "print(\"Recipe: \", recipe_data.iloc[indices[i], 2])"
   ]
  },
  {
   "cell_type": "code",
   "execution_count": 212,
   "id": "07f6beff",
   "metadata": {},
   "outputs": [
    {
     "name": "stdout",
     "output_type": "stream",
     "text": [
      "Items from food inventry:  {'toast'}\n",
      "Items available to do this recipe:  {'toast'}\n",
      "Items not available to do this recipe:  {'cheese', 'bacon', 'eggs'}\n",
      "\n",
      "\n",
      "Recipe name: baconator the right way\n",
      "Ingredients: [\"2 eggs\", \"8 slice bacon\", \"3 slice toast\", \"2 slice cheese\"]\n",
      "Recipe:  [\"coook off the bacon as instructed on the package\", \"take your 3 eggs and mix them for scrambled eggs.\", \"when the eggs are almost done add the cheese so it melts on top.\", \"when all infredients are done make a triple decker sandwich with 4 pieces of bacon on each slice if bread, and 1 egg each\"]\n",
      "CPU times: total: 3.62 s\n",
      "Wall time: 4.97 s\n"
     ]
    },
    {
     "name": "stderr",
     "output_type": "stream",
     "text": [
      "<timed exec>:2: SettingWithCopyWarning: \n",
      "A value is trying to be set on a copy of a slice from a DataFrame.\n",
      "Try using .loc[row_indexer,col_indexer] = value instead\n",
      "\n",
      "See the caveats in the documentation: https://pandas.pydata.org/pandas-docs/stable/user_guide/indexing.html#returning-a-view-versus-a-copy\n"
     ]
    }
   ],
   "source": [
    "%%time\n",
    "input_ingredients = set([\"toast\"])\n",
    "df[\"similarity_score\"] = df['NER'].apply(lambda x: jaccard_similarity(input_ingredients, x))\n",
    "indices = df.nlargest(n=5, columns = \"similarity_score\").index\n",
    "i = 4\n",
    "print(\"Items from food inventry: \", input_ingredients)\n",
    "print(\"Items available to do this recipe: \", input_ingredients.intersection(df.iloc[indices[i],0]))\n",
    "#print(input_ingredients.difference(df.iloc[indices[i],0]))\n",
    "print(\"Items not available to do this recipe: \", set(df.iloc[indices[i],0]).difference(input_ingredients))\n",
    "print(\"\\n\")\n",
    "print(\"Recipe name:\", recipe_data.iloc[indices[i], 0])\n",
    "print(\"Ingredients:\", recipe_data.iloc[indices[i], 1])\n",
    "print(\"Recipe: \", recipe_data.iloc[indices[i], 2])"
   ]
  },
  {
   "cell_type": "code",
   "execution_count": 207,
   "id": "8c1e9d8f",
   "metadata": {},
   "outputs": [
    {
     "name": "stdout",
     "output_type": "stream",
     "text": [
      "CPU times: total: 3.67 s\n",
      "Wall time: 4.93 s\n"
     ]
    },
    {
     "name": "stderr",
     "output_type": "stream",
     "text": [
      "<timed exec>:2: SettingWithCopyWarning: \n",
      "A value is trying to be set on a copy of a slice from a DataFrame.\n",
      "Try using .loc[row_indexer,col_indexer] = value instead\n",
      "\n",
      "See the caveats in the documentation: https://pandas.pydata.org/pandas-docs/stable/user_guide/indexing.html#returning-a-view-versus-a-copy\n"
     ]
    }
   ],
   "source": [
    "%%time\n",
    "input_ingredients = set([\"butter chicken simmer sauce mild\"])\n",
    "df[\"similarity_score\"] = df['NER'].apply(lambda x: jaccard_similarity(input_ingredients, x))\n",
    "indices = df.nlargest(n=5, columns = \"similarity_score\").index"
   ]
  },
  {
   "cell_type": "code",
   "execution_count": 209,
   "id": "fe4a4087",
   "metadata": {},
   "outputs": [
    {
     "name": "stdout",
     "output_type": "stream",
     "text": [
      "Items from food inventry:  {'butter chicken simmer sauce mild'}\n",
      "Items available to do this recipe:  set()\n",
      "Items not available to do this recipe:  {'cream of mushroom soup', 'chicken breasts', 'beef', 'sour cream'}\n",
      "\n",
      "\n",
      "Recipe name: Jewell Ball'S Chicken\n",
      "Ingredients: [\"1 small jar chipped beef, cut up\", \"4 boned chicken breasts\", \"1 can cream of mushroom soup\", \"1 carton sour cream\"]\n",
      "Recipe:  [\"Place chipped beef on bottom of baking dish.\", \"Place chicken on top of beef.\", \"Mix soup and cream together; pour over chicken. Bake, uncovered, at 275\\u00b0 for 3 hours.\"]\n"
     ]
    }
   ],
   "source": [
    "i = 1\n",
    "print(\"Items from food inventry: \", input_ingredients)\n",
    "print(\"Items available to do this recipe: \", input_ingredients.intersection(df.iloc[indices[i],0]))\n",
    "#print(input_ingredients.difference(df.iloc[indices[i],0]))\n",
    "print(\"Items not available to do this recipe: \", set(df.iloc[indices[i],0]).difference(input_ingredients))\n",
    "print(\"\\n\")\n",
    "print(\"Recipe name:\", recipe_data.iloc[indices[i], 0])\n",
    "print(\"Ingredients:\", recipe_data.iloc[indices[i], 1])\n",
    "print(\"Recipe: \", recipe_data.iloc[indices[i], 2])"
   ]
  },
  {
   "cell_type": "markdown",
   "id": "00d78b34",
   "metadata": {},
   "source": [
    "# Merging categories with recipes"
   ]
  },
  {
   "cell_type": "code",
   "execution_count": 88,
   "id": "0b78c4a6",
   "metadata": {},
   "outputs": [],
   "source": [
    "import itertools"
   ]
  },
  {
   "cell_type": "code",
   "execution_count": 150,
   "id": "ac939a7f",
   "metadata": {},
   "outputs": [],
   "source": [
    "items_present = list(itertools.chain.from_iterable(list(df[\"NER\"])))"
   ]
  },
  {
   "cell_type": "code",
   "execution_count": 100,
   "id": "4c20b837",
   "metadata": {},
   "outputs": [
    {
     "data": {
      "text/plain": [
       "234059"
      ]
     },
     "execution_count": 100,
     "metadata": {},
     "output_type": "execute_result"
    }
   ],
   "source": [
    "len(items_present)"
   ]
  },
  {
   "cell_type": "code",
   "execution_count": 103,
   "id": "4f3a9b99",
   "metadata": {},
   "outputs": [],
   "source": [
    "items_present.sort()"
   ]
  },
  {
   "cell_type": "code",
   "execution_count": 108,
   "id": "5a48ac5d",
   "metadata": {},
   "outputs": [
    {
     "data": {
      "text/plain": [
       "['\"Cracker Barrel',\n",
       " '\"Great Garlic',\n",
       " '\"Great Guacamole Spice',\n",
       " '\"Kirsch Liqueur',\n",
       " '\"Natures Seasoning\"',\n",
       " '#',\n",
       " '#\\tOnion',\n",
       " '#\\tmozzarella cheese',\n",
       " '# - Ham',\n",
       " '# - boneless flank',\n",
       " '# Andouille Sausage',\n",
       " '# Ap flour',\n",
       " '# BACON',\n",
       " '# Bacon']"
      ]
     },
     "execution_count": 108,
     "metadata": {},
     "output_type": "execute_result"
    }
   ],
   "source": [
    "items_present[1:15]"
   ]
  },
  {
   "cell_type": "code",
   "execution_count": 109,
   "id": "9894efa0",
   "metadata": {},
   "outputs": [
    {
     "data": {
      "text/plain": [
       "[\"'s Chili Cocktail Sauce\",\n",
       " \"'s Chili Mix\",\n",
       " \"'s Chili Pinto Beans\",\n",
       " \"'s Chili Powder Seasoning\",\n",
       " \"'s Chili Seasoning\",\n",
       " \"'s Chili Seasoning Mix\",\n",
       " \"'s Chili mix\",\n",
       " \"'s Chili seasoning\",\n",
       " \"'s Chips\",\n",
       " \"'s Choice\",\n",
       " \"'s Choice California\",\n",
       " \"'s Chunky\",\n",
       " \"'s Chunky Mexican\",\n",
       " \"'s Chunky Salsa\",\n",
       " \"'s Chunky chili\"]"
      ]
     },
     "execution_count": 109,
     "metadata": {},
     "output_type": "execute_result"
    }
   ],
   "source": [
    "items_present[400:415]"
   ]
  },
  {
   "cell_type": "code",
   "execution_count": 112,
   "id": "94803be1",
   "metadata": {},
   "outputs": [
    {
     "data": {
      "text/plain": [
       "['Al Capone roast from',\n",
       " 'Al Dente',\n",
       " 'Al Fresco',\n",
       " 'Al Fresco Sweet Italian Style Chicken',\n",
       " 'Al Fresco Tomato',\n",
       " 'Al Purpose',\n",
       " 'Al pastor',\n",
       " \"Al's barbecue sauce\",\n",
       " \"Al's chow\",\n",
       " 'AlDente',\n",
       " 'Alabama',\n",
       " 'Alabama White',\n",
       " 'Alaga syrup',\n",
       " 'Alaskan crabmeat',\n",
       " 'Alaskan halibut']"
      ]
     },
     "execution_count": 112,
     "metadata": {},
     "output_type": "execute_result"
    }
   ],
   "source": [
    "items_present[2200:2215]"
   ]
  },
  {
   "cell_type": "code",
   "execution_count": 91,
   "id": "bb934e7b",
   "metadata": {},
   "outputs": [
    {
     "data": {
      "text/plain": [
       "{'E', 'N', 'R'}"
      ]
     },
     "execution_count": 91,
     "metadata": {},
     "output_type": "execute_result"
    }
   ],
   "source": [
    "items_present"
   ]
  },
  {
   "cell_type": "code",
   "execution_count": 151,
   "id": "fe097c63",
   "metadata": {},
   "outputs": [],
   "source": [
    "items_count = pd.Series(items_present).value_counts()"
   ]
  },
  {
   "cell_type": "code",
   "execution_count": 196,
   "id": "7209aae1",
   "metadata": {},
   "outputs": [
    {
     "data": {
      "text/plain": [
       "717"
      ]
     },
     "execution_count": 196,
     "metadata": {},
     "output_type": "execute_result"
    }
   ],
   "source": [
    "sum(items_count > 0.01*234059) #items present in 5% of the recipes"
   ]
  },
  {
   "cell_type": "code",
   "execution_count": 197,
   "id": "67719695",
   "metadata": {},
   "outputs": [
    {
     "data": {
      "text/plain": [
       "salt                   1013708\n",
       "sugar                   662832\n",
       "butter                  539978\n",
       "flour                   488086\n",
       "eggs                    422212\n",
       "                        ...   \n",
       "peppermint                2351\n",
       "pimientos                 2349\n",
       "orange peel               2348\n",
       "ground white pepper       2342\n",
       "roma tomatoes             2341\n",
       "Length: 717, dtype: int64"
      ]
     },
     "execution_count": 197,
     "metadata": {},
     "output_type": "execute_result"
    }
   ],
   "source": [
    "items_count[0:717]"
   ]
  },
  {
   "cell_type": "code",
   "execution_count": 202,
   "id": "0e142e8b",
   "metadata": {},
   "outputs": [],
   "source": [
    "with open(\"product_groups.txt\", \"w\") as f:\n",
    "    f.write(\" | \".join(list(items_count[0:350].index)))"
   ]
  },
  {
   "cell_type": "code",
   "execution_count": 166,
   "id": "3e5865d3",
   "metadata": {},
   "outputs": [],
   "source": [
    "import numpy as np"
   ]
  },
  {
   "cell_type": "code",
   "execution_count": 199,
   "id": "ae1ddafd",
   "metadata": {},
   "outputs": [],
   "source": [
    "np.save(\"product_groups\", np.array(items_count[0:717].index))"
   ]
  },
  {
   "cell_type": "code",
   "execution_count": 141,
   "id": "e7939811",
   "metadata": {},
   "outputs": [],
   "source": [
    "prod_groups = \" | \".join(list(items_count[0:33411].index))"
   ]
  },
  {
   "cell_type": "code",
   "execution_count": 145,
   "id": "0961fa9a",
   "metadata": {},
   "outputs": [
    {
     "data": {
      "text/plain": [
       "'ipe | \\x95Salt | chunky'"
      ]
     },
     "execution_count": 145,
     "metadata": {},
     "output_type": "execute_result"
    }
   ],
   "source": [
    "re.sub('\\x95', \"\")"
   ]
  },
  {
   "cell_type": "code",
   "execution_count": 139,
   "id": "28d9c72e",
   "metadata": {},
   "outputs": [
    {
     "ename": "UnicodeEncodeError",
     "evalue": "'charmap' codec can't encode character '\\x95' in position 162456: character maps to <undefined>",
     "output_type": "error",
     "traceback": [
      "\u001b[1;31m---------------------------------------------------------------------------\u001b[0m",
      "\u001b[1;31mUnicodeEncodeError\u001b[0m                        Traceback (most recent call last)",
      "Input \u001b[1;32mIn [139]\u001b[0m, in \u001b[0;36m<cell line: 2>\u001b[1;34m()\u001b[0m\n\u001b[0;32m      1\u001b[0m f \u001b[38;5;241m=\u001b[39m \u001b[38;5;28mopen\u001b[39m(\u001b[38;5;124m\"\u001b[39m\u001b[38;5;124mproduct_groups.txt\u001b[39m\u001b[38;5;124m\"\u001b[39m, \u001b[38;5;124m\"\u001b[39m\u001b[38;5;124ma\u001b[39m\u001b[38;5;124m\"\u001b[39m)\n\u001b[1;32m----> 2\u001b[0m \u001b[43mf\u001b[49m\u001b[38;5;241;43m.\u001b[39;49m\u001b[43mwrite\u001b[49m\u001b[43m(\u001b[49m\u001b[38;5;124;43m\"\u001b[39;49m\u001b[38;5;124;43m | \u001b[39;49m\u001b[38;5;124;43m\"\u001b[39;49m\u001b[38;5;241;43m.\u001b[39;49m\u001b[43mjoin\u001b[49m\u001b[43m(\u001b[49m\u001b[38;5;28;43mlist\u001b[39;49m\u001b[43m(\u001b[49m\u001b[43mitems_count\u001b[49m\u001b[43m[\u001b[49m\u001b[38;5;241;43m0\u001b[39;49m\u001b[43m:\u001b[49m\u001b[38;5;241;43m33411\u001b[39;49m\u001b[43m]\u001b[49m\u001b[38;5;241;43m.\u001b[39;49m\u001b[43mindex\u001b[49m\u001b[43m)\u001b[49m\u001b[43m)\u001b[49m\u001b[43m)\u001b[49m\n\u001b[0;32m      3\u001b[0m f\u001b[38;5;241m.\u001b[39mclose()\n",
      "File \u001b[1;32m~\\anaconda3\\lib\\encodings\\cp1252.py:19\u001b[0m, in \u001b[0;36mIncrementalEncoder.encode\u001b[1;34m(self, input, final)\u001b[0m\n\u001b[0;32m     18\u001b[0m \u001b[38;5;28;01mdef\u001b[39;00m \u001b[38;5;21mencode\u001b[39m(\u001b[38;5;28mself\u001b[39m, \u001b[38;5;28minput\u001b[39m, final\u001b[38;5;241m=\u001b[39m\u001b[38;5;28;01mFalse\u001b[39;00m):\n\u001b[1;32m---> 19\u001b[0m     \u001b[38;5;28;01mreturn\u001b[39;00m \u001b[43mcodecs\u001b[49m\u001b[38;5;241;43m.\u001b[39;49m\u001b[43mcharmap_encode\u001b[49m\u001b[43m(\u001b[49m\u001b[38;5;28;43minput\u001b[39;49m\u001b[43m,\u001b[49m\u001b[38;5;28;43mself\u001b[39;49m\u001b[38;5;241;43m.\u001b[39;49m\u001b[43merrors\u001b[49m\u001b[43m,\u001b[49m\u001b[43mencoding_table\u001b[49m\u001b[43m)\u001b[49m[\u001b[38;5;241m0\u001b[39m]\n",
      "\u001b[1;31mUnicodeEncodeError\u001b[0m: 'charmap' codec can't encode character '\\x95' in position 162456: character maps to <undefined>"
     ]
    }
   ],
   "source": [
    "f = open(\"product_groups.txt\", \"a\")\n",
    "f.write()\n",
    "f.close()"
   ]
  },
  {
   "cell_type": "markdown",
   "id": "02174488",
   "metadata": {},
   "source": []
  }
 ],
 "metadata": {
  "kernelspec": {
   "display_name": "Python 3 (ipykernel)",
   "language": "python",
   "name": "python3"
  },
  "language_info": {
   "codemirror_mode": {
    "name": "ipython",
    "version": 3
   },
   "file_extension": ".py",
   "mimetype": "text/x-python",
   "name": "python",
   "nbconvert_exporter": "python",
   "pygments_lexer": "ipython3",
   "version": "3.9.12"
  },
  "toc": {
   "base_numbering": 1,
   "nav_menu": {},
   "number_sections": true,
   "sideBar": true,
   "skip_h1_title": false,
   "title_cell": "Table of Contents",
   "title_sidebar": "Contents",
   "toc_cell": true,
   "toc_position": {},
   "toc_section_display": true,
   "toc_window_display": false
  }
 },
 "nbformat": 4,
 "nbformat_minor": 5
}
